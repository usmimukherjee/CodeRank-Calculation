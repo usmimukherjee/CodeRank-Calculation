{
 "cells": [
  {
   "cell_type": "code",
   "execution_count": 55,
   "id": "6d566d3d-641f-4ef8-8882-ab1c922d5e95",
   "metadata": {},
   "outputs": [],
   "source": [
    "import nltk\n",
    "import string\n",
    "from nltk.stem import WordNetLemmatizer\n",
    "from nltk.stem import PorterStemmer\n",
    "from nltk.corpus import stopwords\n",
    "from nltk import word_tokenize"
   ]
  },
  {
   "cell_type": "code",
   "execution_count": 120,
   "id": "71549d6c-c753-4ad6-8516-b60bffb264e5",
   "metadata": {},
   "outputs": [],
   "source": [
    "bugReport = \"It seems like the Eclipse Java compiler fails to compile for nested inheritance. \\\n",
    "Best way to replicate it is to clone the Eclipse Collections Project and run a maven clean install .\\\n",
    "Make sure to skip tests for early feedback. The clean install using native javac will go through fine, \\\n",
    "however, if you try to compile the project using the Eclipse IDE then the same compilation fails. \\\n",
    "This issue is either in the javac or it is in the Eclipse Java compiler. Can you please take a look?\\\n",
    "The fix is simple to essentially add a cast explicitly, but having unnecessary casts is something we should not do.\""
   ]
  },
  {
   "cell_type": "code",
   "execution_count": 121,
   "id": "200ac603-0433-403a-bf66-384385df7c72",
   "metadata": {},
   "outputs": [
    {
     "name": "stdout",
     "output_type": "stream",
     "text": [
      "['it', 'seems', 'like', 'the', 'eclipse', 'java', 'compiler', 'fails', 'to', 'compile', 'for', 'nested', 'inheritance', '.', 'best', 'way', 'to', 'replicate', 'it', 'is', 'to', 'clone', 'the', 'eclipse', 'collections', 'project', 'and', 'run', 'a', 'maven', 'clean', 'install', '.make', 'sure', 'to', 'skip', 'tests', 'for', 'early', 'feedback', '.', 'the', 'clean', 'install', 'using', 'native', 'javac', 'will', 'go', 'through', 'fine', ',', 'however', ',', 'if', 'you', 'try', 'to', 'compile', 'the', 'project', 'using', 'the', 'eclipse', 'ide', 'then', 'the', 'same', 'compilation', 'fails', '.', 'this', 'issue', 'is', 'either', 'in', 'the', 'javac', 'or', 'it', 'is', 'in', 'the', 'eclipse', 'java', 'compiler', '.', 'can', 'you', 'please', 'take', 'a', 'look', '?', 'the', 'fix', 'is', 'simple', 'to', 'essentially', 'add', 'a', 'cast', 'explicitly', ',', 'but', 'having', 'unnecessary', 'casts', 'is', 'something', 'we', 'should', 'not', 'do', '.']\n"
     ]
    }
   ],
   "source": [
    "def clean(text):\n",
    "    text = text.lower()\n",
    "    printable = set(string.printable)\n",
    "    text = filter(lambda x: x in printable, text)\n",
    "    text = \"\".join(list(text))\n",
    "    return text\n",
    "\n",
    "text = clean(bugReport)\n",
    "text = word_tokenize(text)\n",
    "print(text)"
   ]
  },
  {
   "cell_type": "code",
   "execution_count": 122,
   "id": "248bdb51-f73c-4b3e-8b02-121315a6999c",
   "metadata": {},
   "outputs": [
    {
     "name": "stdout",
     "output_type": "stream",
     "text": [
      "[('it', 'PRP'), ('seems', 'VBZ'), ('like', 'IN'), ('the', 'DT'), ('eclipse', 'NN'), ('java', 'NN'), ('compiler', 'NN'), ('fails', 'VBZ'), ('to', 'TO'), ('compile', 'VB'), ('for', 'IN'), ('nested', 'JJ'), ('inheritance', 'NN'), ('.', '.'), ('best', 'JJS'), ('way', 'NN'), ('to', 'TO'), ('replicate', 'VB'), ('it', 'PRP'), ('is', 'VBZ'), ('to', 'TO'), ('clone', 'VB'), ('the', 'DT'), ('eclipse', 'NN'), ('collections', 'NNS'), ('project', 'NN'), ('and', 'CC'), ('run', 'VB'), ('a', 'DT'), ('maven', 'JJ'), ('clean', 'JJ'), ('install', 'NN'), ('.make', 'VBP'), ('sure', 'JJ'), ('to', 'TO'), ('skip', 'VB'), ('tests', 'NNS'), ('for', 'IN'), ('early', 'JJ'), ('feedback', 'NN'), ('.', '.'), ('the', 'DT'), ('clean', 'JJ'), ('install', 'NN'), ('using', 'VBG'), ('native', 'JJ'), ('javac', 'NN'), ('will', 'MD'), ('go', 'VB'), ('through', 'IN'), ('fine', 'NN'), (',', ','), ('however', 'RB'), (',', ','), ('if', 'IN'), ('you', 'PRP'), ('try', 'VBP'), ('to', 'TO'), ('compile', 'VB'), ('the', 'DT'), ('project', 'NN'), ('using', 'VBG'), ('the', 'DT'), ('eclipse', 'NN'), ('ide', 'NN'), ('then', 'RB'), ('the', 'DT'), ('same', 'JJ'), ('compilation', 'NN'), ('fails', 'NNS'), ('.', '.'), ('this', 'DT'), ('issue', 'NN'), ('is', 'VBZ'), ('either', 'RB'), ('in', 'IN'), ('the', 'DT'), ('javac', 'NN'), ('or', 'CC'), ('it', 'PRP'), ('is', 'VBZ'), ('in', 'IN'), ('the', 'DT'), ('eclipse', 'NN'), ('java', 'NN'), ('compiler', 'NN'), ('.', '.'), ('can', 'MD'), ('you', 'PRP'), ('please', 'VB'), ('take', 'VB'), ('a', 'DT'), ('look', 'NN'), ('?', '.'), ('the', 'DT'), ('fix', 'NN'), ('is', 'VBZ'), ('simple', 'JJ'), ('to', 'TO'), ('essentially', 'RB'), ('add', 'VB'), ('a', 'DT'), ('cast', 'NN'), ('explicitly', 'RB'), (',', ','), ('but', 'CC'), ('having', 'VBG'), ('unnecessary', 'JJ'), ('casts', 'NNS'), ('is', 'VBZ'), ('something', 'NN'), ('we', 'PRP'), ('should', 'MD'), ('not', 'RB'), ('do', 'VB'), ('.', '.')]\n"
     ]
    }
   ],
   "source": [
    "# POS tagging for later filtering\n",
    "POS_tagging = nltk.pos_tag(text)\n",
    "print (POS_tagging)"
   ]
  },
  {
   "cell_type": "code",
   "execution_count": 123,
   "id": "aecba1e8-27fb-45d6-bf83-04a4034a3c6c",
   "metadata": {},
   "outputs": [
    {
     "name": "stdout",
     "output_type": "stream",
     "text": [
      "['it', 'seem', 'like', 'the', 'eclips', 'java', 'compil', 'fail', 'to', 'compil', 'for', 'nest', 'inherit', '.', 'best', 'way', 'to', 'replic', 'it', 'is', 'to', 'clone', 'the', 'eclips', 'collect', 'project', 'and', 'run', 'a', 'maven', 'clean', 'instal', '.make', 'sure', 'to', 'skip', 'test', 'for', 'earli', 'feedback', '.', 'the', 'clean', 'instal', 'use', 'nativ', 'javac', 'will', 'go', 'through', 'fine', ',', 'howev', ',', 'if', 'you', 'tri', 'to', 'compil', 'the', 'project', 'use', 'the', 'eclips', 'ide', 'then', 'the', 'same', 'compil', 'fail', '.', 'thi', 'issu', 'is', 'either', 'in', 'the', 'javac', 'or', 'it', 'is', 'in', 'the', 'eclips', 'java', 'compil', '.', 'can', 'you', 'pleas', 'take', 'a', 'look', '?', 'the', 'fix', 'is', 'simpl', 'to', 'essenti', 'add', 'a', 'cast', 'explicitli', ',', 'but', 'have', 'unnecessari', 'cast', 'is', 'someth', 'we', 'should', 'not', 'do', '.']\n"
     ]
    }
   ],
   "source": [
    "porter_stemmer = PorterStemmer()\n",
    "stemmed_text = []\n",
    "\n",
    "for word in POS_tagging:\n",
    "    stemmed_text.append(str(porter_stemmer.stem(word[0])))\n",
    "\n",
    "print (stemmed_text)"
   ]
  },
  {
   "cell_type": "code",
   "execution_count": 124,
   "id": "6e2914e1-2517-4abf-8071-2b9f7b6316ab",
   "metadata": {},
   "outputs": [],
   "source": [
    "stopword = []\n",
    "\n",
    "# words from different parts of speech are provided with these major tags - nouns,verbs and adjectives\n",
    "POS_tags = ['NN','NNS','NNP','NNPS','JJ','JJR','JJS','VBG','FW'] \n",
    "\n",
    "# adding to the stop words list - words that do not belong to the above mentioned tags\n",
    "for word in POS_tagging:\n",
    "    if word[1] not in POS_tags:\n",
    "        stopword.append(word[0])\n",
    "        \n",
    "# getting all the punctuations\n",
    "punctuations = list(str(string.punctuation))\n",
    "\n",
    "# adding all the punctuations to the stop word list for filtering the text\n",
    "stopword = stopword + punctuations"
   ]
  },
  {
   "cell_type": "code",
   "execution_count": 125,
   "id": "bac60486-f254-4c7c-a167-06590915369c",
   "metadata": {},
   "outputs": [],
   "source": [
    "# getting stopwords from the nltk library\n",
    "library_stopwords = list(set(stopwords.words('english')))\n",
    "\n",
    "# adding the library stop words to the main stop word list\n",
    "stopwordList = stopword + punctuations + library_stopwords\n",
    "stopwordList = set(stopwordList)"
   ]
  },
  {
   "cell_type": "code",
   "execution_count": 126,
   "id": "fc5b8836-57f3-4f6c-b175-43f1833acb25",
   "metadata": {},
   "outputs": [
    {
     "name": "stdout",
     "output_type": "stream",
     "text": [
      "['seem', 'eclips', 'java', 'compil', 'fail', 'compil', 'nest', 'inherit', 'best', 'way', 'replic', 'eclips', 'collect', 'project', 'maven', 'clean', 'instal', 'sure', 'test', 'earli', 'feedback', 'clean', 'instal', 'use', 'nativ', 'javac', 'fine', 'howev', 'tri', 'compil', 'project', 'use', 'eclips', 'ide', 'compil', 'fail', 'thi', 'issu', 'javac', 'eclips', 'java', 'compil', 'pleas', 'look', 'fix', 'simpl', 'essenti', 'cast', 'explicitli', 'unnecessari', 'cast', 'someth']\n"
     ]
    }
   ],
   "source": [
    "# filtering the text from the stopwordlist\n",
    "preprocessedText = []\n",
    "for word in stemmed_text:\n",
    "    if word not in stopwordList:\n",
    "        preprocessedText.append(word)\n",
    "print (preprocessedText)"
   ]
  },
  {
   "cell_type": "code",
   "execution_count": 127,
   "id": "1d95fd7f-bf33-47f7-9e22-a81f042f2fd5",
   "metadata": {},
   "outputs": [
    {
     "name": "stdout",
     "output_type": "stream",
     "text": [
      "['compil', 'inherit', 'howev', 'look', 'essenti', 'earli', 'unnecessari', 'fix', 'seem', 'collect', 'nativ', 'pleas', 'fine', 'fail', 'best', 'maven', 'way', 'project', 'sure', 'clean', 'feedback', 'ide', 'simpl', 'explicitli', 'eclips', 'tri', 'test', 'java', 'cast', 'someth', 'use', 'replic', 'instal', 'thi', 'issu', 'nest', 'javac']\n"
     ]
    }
   ],
   "source": [
    "vocabulary = list(set(preprocessedText))\n",
    "print (vocabulary)"
   ]
  },
  {
   "cell_type": "code",
   "execution_count": 131,
   "id": "dc1f7b56-825c-4cf3-804a-9609ebd40c80",
   "metadata": {},
   "outputs": [],
   "source": [
    "vocab_len = len(vocabulary)\n",
    "\n",
    "# default weight 0.25\n",
    "weighted_edge = np.full((vocab_len,vocab_len), 0.25)\n",
    "\n",
    "score = np.zeros((vocab_len),dtype=np.float32)\n",
    "\n",
    "window_size = 2\n",
    "coocurrences = []"
   ]
  },
  {
   "cell_type": "code",
   "execution_count": 134,
   "id": "caa8baab-fac7-40c8-8be6-509ec07dc461",
   "metadata": {},
   "outputs": [],
   "source": [
    "# Building graph using term co-occurrence into connecting edges\n",
    "for i in range(0,vocab_len):    \n",
    "    score[i]=0.25    \n",
    "    for j in range(0,vocab_len):    \n",
    "        if j==i:\n",
    "            weighted_edge[i][j]=0.25 \n",
    "        else:\n",
    "            for start in range(0,(len(preprocessedText)-window_size)): \n",
    "                end = start + window_size\n",
    "                window = preprocessedText[start:end]\n",
    "                if (vocabulary[i] in window) and (vocabulary[j] in window):\n",
    "                    index_i = start + window.index(vocabulary[i])\n",
    "                    index_j = start + window.index(vocabulary[j])\n",
    "                    if [index_of_i,index_of_j] not in coocurrences:\n",
    "                        weighted_edge[i][j]+=1/math.fabs(index_i-index_j)\n",
    "                        coocurrences.append([index_i,index_j])"
   ]
  },
  {
   "cell_type": "code",
   "execution_count": 135,
   "id": "15531ef0-d171-4a2c-889b-7543aca8edce",
   "metadata": {},
   "outputs": [],
   "source": [
    "# out denotes the vertices to which Vj is connected through outgoing links\n",
    "out = np.zeros((vocab_len),dtype=np.float32)\n",
    "for i in range(0,vocab_len):\n",
    "    for j in range(0,vocab_len):\n",
    "        out[i]+=weighted_edge[i][j]"
   ]
  },
  {
   "cell_type": "code",
   "execution_count": 136,
   "id": "08941b2a-cc3b-4a78-8de5-3869bda7135b",
   "metadata": {},
   "outputs": [],
   "source": [
    "MAX_ITERATIONS = 100\n",
    "d=0.85 #damping factor\n",
    "threshold = 0.0001 #heuristic threshold for convergence checking\n",
    "\n",
    "#calculating the rank based on the formula\n",
    "for itr in range(0,MAX_ITERATIONS):\n",
    "    prev_score = np.copy(score)   \n",
    "    for i in range(0,vocab_len):      \n",
    "        final_weight = 0\n",
    "        for j in range(0,vocab_len):\n",
    "            if weighted_edge[i][j] != 0.25:\n",
    "                final_weight += (weighted_edge[i][j]/out[j])*score[j]            \n",
    "        score[i] = (1-d) + d*(final_weight)    \n",
    "        #convergence condition\n",
    "    if np.sum(np.fabs(prev_score-score)) <= threshold:\n",
    "        break"
   ]
  },
  {
   "cell_type": "code",
   "execution_count": 137,
   "id": "d86f1080-7480-43b2-a569-8e7329d34f5b",
   "metadata": {},
   "outputs": [
    {
     "name": "stdout",
     "output_type": "stream",
     "text": [
      "Score of compil: 0.31237847\n",
      "Score of inherit: 0.18491015\n",
      "Score of howev: 0.18492743\n",
      "Score of look: 0.18491009\n",
      "Score of essenti: 0.18502384\n",
      "Score of earli: 0.18491755\n",
      "Score of unnecessari: 0.18503258\n",
      "Score of fix: 0.1849303\n",
      "Score of seem: 0.16760398\n",
      "Score of collect: 0.18523373\n",
      "Score of nativ: 0.18529461\n",
      "Score of pleas: 0.1847054\n",
      "Score of fine: 0.18511216\n",
      "Score of fail: 0.2122533\n",
      "Score of best: 0.18493074\n",
      "Score of maven: 0.18496194\n",
      "Score of way: 0.18494461\n",
      "Score of project: 0.21985242\n",
      "Score of sure: 0.18480936\n",
      "Score of clean: 0.2161423\n",
      "Score of feedback: 0.1847966\n",
      "Score of ide: 0.18484564\n",
      "Score of simpl: 0.18494011\n",
      "Score of explicitli: 0.18503258\n",
      "Score of eclips: 0.2858034\n",
      "Score of tri: 0.18470703\n",
      "Score of test: 0.18491866\n",
      "Score of java: 0.2127219\n",
      "Score of cast: 0.20242508\n",
      "Score of someth: 0.15\n",
      "Score of use: 0.22007836\n",
      "Score of replic: 0.18507083\n",
      "Score of instal: 0.2162999\n",
      "Score of thi: 0.18449932\n",
      "Score of issu: 0.18507174\n",
      "Score of nest: 0.1847054\n",
      "Score of javac: 0.2200657\n"
     ]
    }
   ],
   "source": [
    "for i in range(0,vocab_len):\n",
    "    print(\"Score of \"+vocabulary[i]+\": \"+str(score[i]))"
   ]
  }
 ],
 "metadata": {
  "kernelspec": {
   "display_name": "Python 3",
   "language": "python",
   "name": "python3"
  },
  "language_info": {
   "codemirror_mode": {
    "name": "ipython",
    "version": 3
   },
   "file_extension": ".py",
   "mimetype": "text/x-python",
   "name": "python",
   "nbconvert_exporter": "python",
   "pygments_lexer": "ipython3",
   "version": "3.7.11"
  }
 },
 "nbformat": 4,
 "nbformat_minor": 5
}
